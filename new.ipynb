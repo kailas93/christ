{
 "cells": [
  {
   "cell_type": "code",
   "execution_count": 1,
   "id": "a29ebc9f-b86e-471a-aa5a-836e2609384b",
   "metadata": {},
   "outputs": [
    {
     "name": "stdout",
     "output_type": "stream",
     "text": [
      "git demo\n"
     ]
    }
   ],
   "source": [
    "print(\"git demo\")"
   ]
  },
  {
   "cell_type": "code",
   "execution_count": null,
   "id": "7e43f88c-6011-4a1d-8477-3c943a237a7c",
   "metadata": {},
   "outputs": [],
   "source": [
    "print(\"making chnages in the same file\")"
   ]
  },
  {
   "cell_type": "code",
   "execution_count": null,
   "id": "5af44625-3df7-4919-8afc-bac3275fb2e6",
   "metadata": {},
   "outputs": [],
   "source": []
  }
 ],
 "metadata": {
  "kernelspec": {
   "display_name": "Python [conda env:base] *",
   "language": "python",
   "name": "conda-base-py"
  },
  "language_info": {
   "codemirror_mode": {
    "name": "ipython",
    "version": 3
   },
   "file_extension": ".py",
   "mimetype": "text/x-python",
   "name": "python",
   "nbconvert_exporter": "python",
   "pygments_lexer": "ipython3",
   "version": "3.12.7"
  }
 },
 "nbformat": 4,
 "nbformat_minor": 5
}
