{
 "cells": [
  {
   "cell_type": "code",
   "execution_count": null,
   "id": "a29ebc9f-b86e-471a-aa5a-836e2609384b",
   "metadata": {},
   "outputs": [],
   "source": []
  }
 ],
 "metadata": {
  "kernelspec": {
   "display_name": "",
   "name": ""
  },
  "language_info": {
   "name": ""
  }
 },
 "nbformat": 4,
 "nbformat_minor": 5
}
